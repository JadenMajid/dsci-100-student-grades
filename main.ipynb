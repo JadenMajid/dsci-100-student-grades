{
 "cells": [
  {
   "attachments": {},
   "cell_type": "markdown",
   "metadata": {},
   "source": [
    "# How do health metrics affect math course performance in highschoolers?\n",
    "\n",
    "## Introduction:\n",
    "Question: How do health metrics affect math course performance in highschoolers?\n",
    "\n",
    "Dataset: This data focuses on the academic performance of secondary school students in two Portuguese schools. It includes various factors such as student grades, demographic information, social aspects, and school-related features. The data was collected through school reports and questionnaires. Two datasets are provided, specifically examining student performance in two different subjects: Mathematics and Portuguese.\n",
    "\n"
   ]
  },
  {
   "cell_type": "raw",
   "metadata": {},
   "source": [
    "data = read_csv2(\"install.packages(\"languageserver\")\")\n"
   ]
  },
  {
   "attachments": {},
   "cell_type": "markdown",
   "metadata": {},
   "source": []
  }
 ],
 "metadata": {
  "language_info": {
   "name": "python"
  },
  "orig_nbformat": 4
 },
 "nbformat": 4,
 "nbformat_minor": 2
}
